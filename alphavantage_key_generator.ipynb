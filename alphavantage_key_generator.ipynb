{
 "cells": [
  {
   "cell_type": "code",
   "execution_count": null,
   "id": "3fbd6ead",
   "metadata": {},
   "outputs": [],
   "source": [
    "import time\n",
    "import random\n",
    "from multiprocessing import Pool\n",
    "from selenium import webdriver\n",
    "from selenium.webdriver.common.by import By\n",
    "from selenium.webdriver.chrome.options import Options\n",
    "\n",
    "def generate_email(i):\n",
    "    return f\"ahmedyaqoobbusiness+{i}@gmail.com\"\n",
    "\n",
    "def get_api_key(index):\n",
    "    chrome_options = Options()\n",
    "    chrome_options.add_argument(\"--headless\")  # remove if you want to see the browser\n",
    "    driver = webdriver.Chrome(options=chrome_options)\n",
    "\n",
    "    try:\n",
    "        driver.get(\"https://www.alphavantage.co/support/#api-key\")\n",
    "        time.sleep(2)\n",
    "\n",
    "        # Fill the form\n",
    "        driver.find_element(By.ID, \"occupation-text\").send_keys(\"Student\")\n",
    "        driver.find_element(By.ID, \"organization-text\").send_keys(\"Fast National University\")\n",
    "        driver.find_element(By.ID, \"email-text\").send_keys(generate_email(index))\n",
    "        time.sleep(1)\n",
    "\n",
    "        # Enable and click the button via JS (the button is initially disabled)\n",
    "        driver.execute_script(\"document.getElementById('submit-btn').disabled = false;\")\n",
    "        driver.find_element(By.ID, \"submit-btn\").click()\n",
    "        time.sleep(5)\n",
    "\n",
    "        # Get API key from response\n",
    "        key_element = driver.find_element(By.ID, \"talk\").text\n",
    "        api_key = key_element.split(\"access key is:\")[-1].strip().split(\".\")[0]\n",
    "        print(f\"[{index}] Key: {api_key}\")\n",
    "        return api_key\n",
    "    except Exception as e:\n",
    "        print(f\"[{index}] Error: {e}\")\n",
    "        return None\n",
    "    finally:\n",
    "        driver.quit()\n",
    "\n",
    "def run_parallel(n=140):\n",
    "    with Pool(processes=10) as pool:\n",
    "        results = pool.map(get_api_key, range(n))\n",
    "\n",
    "    # Save to file\n",
    "    with open(\"alpha_vantage_api_keys.txt\", \"w\") as f:\n",
    "        for key in results:\n",
    "            if key:\n",
    "                f.write(key + \"\\n\")\n",
    "\n",
    "if __name__ == \"__main__\":\n",
    "    run_parallel()\n"
   ]
  },
  {
   "cell_type": "code",
   "execution_count": null,
   "id": "eb980edc",
   "metadata": {},
   "outputs": [],
   "source": []
  }
 ],
 "metadata": {
  "kernelspec": {
   "display_name": "Python 3 (ipykernel)",
   "language": "python",
   "name": "python3"
  },
  "language_info": {
   "codemirror_mode": {
    "name": "ipython",
    "version": 3
   },
   "file_extension": ".py",
   "mimetype": "text/x-python",
   "name": "python",
   "nbconvert_exporter": "python",
   "pygments_lexer": "ipython3",
   "version": "3.11.4"
  }
 },
 "nbformat": 4,
 "nbformat_minor": 5
}
